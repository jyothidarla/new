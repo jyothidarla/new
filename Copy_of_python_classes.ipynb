{
  "nbformat": 4,
  "nbformat_minor": 0,
  "metadata": {
    "colab": {
      "provenance": [],
      "authorship_tag": "ABX9TyNYWjAeICA1i2JUE/QqEv0p",
      "include_colab_link": true
    },
    "kernelspec": {
      "name": "python3",
      "display_name": "Python 3"
    },
    "language_info": {
      "name": "python"
    }
  },
  "cells": [
    {
      "cell_type": "markdown",
      "metadata": {
        "id": "view-in-github",
        "colab_type": "text"
      },
      "source": [
        "<a href=\"https://colab.research.google.com/github/jyothidarla/new/blob/master/Copy_of_python_classes.ipynb\" target=\"_parent\"><img src=\"https://colab.research.google.com/assets/colab-badge.svg\" alt=\"Open In Colab\"/></a>"
      ]
    },
    {
      "cell_type": "code",
      "execution_count": null,
      "metadata": {
        "colab": {
          "base_uri": "https://localhost:8080/"
        },
        "id": "94kab75xR9Dm",
        "outputId": "3b89256a-fefd-4d54-affc-dfe2c6bc0e17"
      },
      "outputs": [
        {
          "output_type": "stream",
          "name": "stdout",
          "text": [
            "hi\n"
          ]
        }
      ],
      "source": [
        "print(\"hi\")\n"
      ]
    },
    {
      "cell_type": "code",
      "source": [
        "import time\n",
        "eid=1010\n",
        "print('hi')\n",
        "time.sleep(5)\n",
        "print(eid)"
      ],
      "metadata": {
        "colab": {
          "base_uri": "https://localhost:8080/"
        },
        "id": "rgER41hzTRWp",
        "outputId": "2f0032cd-fffc-498d-a038-0ab1d493aa69"
      },
      "execution_count": null,
      "outputs": [
        {
          "output_type": "stream",
          "name": "stdout",
          "text": [
            "hi\n",
            "1010\n"
          ]
        }
      ]
    },
    {
      "cell_type": "markdown",
      "source": [
        "import time\n",
        "eid=1010\n",
        "print('hi')\n",
        "time.sleep(3)\n",
        "print(eid)\n",
        "\n",
        "* here import is used for importing the predefined functions.\n",
        "time: time.sleep(3) it means delay 3s for execution.\n"
      ],
      "metadata": {
        "id": "4D1Ewos5U_h4"
      }
    }
  ]
}